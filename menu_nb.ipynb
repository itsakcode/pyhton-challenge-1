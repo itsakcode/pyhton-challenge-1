{
 "cells": [
  {
   "cell_type": "code",
   "execution_count": 1,
   "metadata": {
    "tags": []
   },
   "outputs": [
    {
     "name": "stdout",
     "output_type": "stream",
     "text": [
      "Welcome to the variety food truck.\n",
      "~~~~~~~~~~~~~~~~~~~~~~~~~~~~~~~~~~~~~~~~~~~~~~~~~~\n",
      "From which menu would you like to order? \n",
      "1: Snacks\n",
      "2: Meals\n",
      "3: Drinks\n",
      "4: Dessert\n",
      "~~~~~~~~~~~~~~~~~~~~~~~~~~~~~~~~~~~~~~~~~~~~~~~~~~\n"
     ]
    },
    {
     "name": "stdin",
     "output_type": "stream",
     "text": [
      "Type menu number:  1\n"
     ]
    },
    {
     "name": "stdout",
     "output_type": "stream",
     "text": [
      "\n",
      "You selected Snacks\n",
      "**************************************************\n",
      "\n",
      "What Snacks item would you like to order?\n",
      "\n",
      "Item # | Item name                | Price\n",
      "-------|--------------------------|-------\n",
      "1      | Cookie                   | $0.99\n",
      "2      | Banana                   | $0.69\n",
      "3      | Apple                    | $0.49\n",
      "4      | Granola bar              | $1.99\n",
      "-------|--------------------------|-------\n"
     ]
    },
    {
     "name": "stdin",
     "output_type": "stream",
     "text": [
      "Type item number:  3\n",
      "\n",
      "You selected Apple, type item quantity:  4\n",
      "\n",
      " Would you like to keep ordering? (Y)es or (N)o  y\n"
     ]
    },
    {
     "name": "stdout",
     "output_type": "stream",
     "text": [
      "~~~~~~~~~~~~~~~~~~~~~~~~~~~~~~~~~~~~~~~~~~~~~~~~~~\n",
      "From which menu would you like to order? \n",
      "1: Snacks\n",
      "2: Meals\n",
      "3: Drinks\n",
      "4: Dessert\n",
      "~~~~~~~~~~~~~~~~~~~~~~~~~~~~~~~~~~~~~~~~~~~~~~~~~~\n"
     ]
    },
    {
     "name": "stdin",
     "output_type": "stream",
     "text": [
      "Type menu number:  2\n"
     ]
    },
    {
     "name": "stdout",
     "output_type": "stream",
     "text": [
      "\n",
      "You selected Meals\n",
      "**************************************************\n",
      "\n",
      "What Meals item would you like to order?\n",
      "\n",
      "Item # | Item name                | Price\n",
      "-------|--------------------------|-------\n",
      "1      | Burrito                  | $4.49\n",
      "2      | Teriyaki Chicken         | $9.99\n",
      "3      | Sushi                    | $7.49\n",
      "4      | Pad Thai                 | $6.99\n",
      "5      | Pizza - Cheese           | $8.99\n",
      "6      | Pizza - Pepperoni        | $10.99\n",
      "7      | Pizza - Vegetarian       | $9.99\n",
      "8      | Burger - Chicken         | $7.49\n",
      "9      | Burger - Beef            | $8.49\n",
      "-------|--------------------------|-------\n"
     ]
    },
    {
     "name": "stdin",
     "output_type": "stream",
     "text": [
      "Type item number:  4\n",
      "\n",
      "You selected Pad Thai, type item quantity:  2\n",
      "\n",
      " Would you like to keep ordering? (Y)es or (N)o  y\n"
     ]
    },
    {
     "name": "stdout",
     "output_type": "stream",
     "text": [
      "~~~~~~~~~~~~~~~~~~~~~~~~~~~~~~~~~~~~~~~~~~~~~~~~~~\n",
      "From which menu would you like to order? \n",
      "1: Snacks\n",
      "2: Meals\n",
      "3: Drinks\n",
      "4: Dessert\n",
      "~~~~~~~~~~~~~~~~~~~~~~~~~~~~~~~~~~~~~~~~~~~~~~~~~~\n"
     ]
    },
    {
     "name": "stdin",
     "output_type": "stream",
     "text": [
      "Type menu number:  7\n"
     ]
    },
    {
     "name": "stdout",
     "output_type": "stream",
     "text": [
      "ERROR: 7 was not a menu option.\n"
     ]
    },
    {
     "name": "stdin",
     "output_type": "stream",
     "text": [
      "\n",
      " Would you like to keep ordering? (Y)es or (N)o  y\n"
     ]
    },
    {
     "name": "stdout",
     "output_type": "stream",
     "text": [
      "~~~~~~~~~~~~~~~~~~~~~~~~~~~~~~~~~~~~~~~~~~~~~~~~~~\n",
      "From which menu would you like to order? \n",
      "1: Snacks\n",
      "2: Meals\n",
      "3: Drinks\n",
      "4: Dessert\n",
      "~~~~~~~~~~~~~~~~~~~~~~~~~~~~~~~~~~~~~~~~~~~~~~~~~~\n"
     ]
    },
    {
     "name": "stdin",
     "output_type": "stream",
     "text": [
      "Type menu number:  2\n"
     ]
    },
    {
     "name": "stdout",
     "output_type": "stream",
     "text": [
      "\n",
      "You selected Meals\n",
      "**************************************************\n",
      "\n",
      "What Meals item would you like to order?\n",
      "\n",
      "Item # | Item name                | Price\n",
      "-------|--------------------------|-------\n",
      "1      | Burrito                  | $4.49\n",
      "2      | Teriyaki Chicken         | $9.99\n",
      "3      | Sushi                    | $7.49\n",
      "4      | Pad Thai                 | $6.99\n",
      "5      | Pizza - Cheese           | $8.99\n",
      "6      | Pizza - Pepperoni        | $10.99\n",
      "7      | Pizza - Vegetarian       | $9.99\n",
      "8      | Burger - Chicken         | $7.49\n",
      "9      | Burger - Beef            | $8.49\n",
      "-------|--------------------------|-------\n"
     ]
    },
    {
     "name": "stdin",
     "output_type": "stream",
     "text": [
      "Type item number:  7\n",
      "\n",
      "You selected Pizza - Vegetarian, type item quantity:  1\n",
      "\n",
      " Would you like to keep ordering? (Y)es or (N)o  d\n"
     ]
    },
    {
     "name": "stdout",
     "output_type": "stream",
     "text": [
      "ERROR: Invalid selection. Type Y or N to continue.\n"
     ]
    },
    {
     "name": "stdin",
     "output_type": "stream",
     "text": [
      "\n",
      " Would you like to keep ordering? (Y)es or (N)o  n\n"
     ]
    },
    {
     "name": "stdout",
     "output_type": "stream",
     "text": [
      "****Thank you for your order.****\n"
     ]
    }
   ],
   "source": [
    "# Menu dictionary\n",
    "menu = {\n",
    "    \"Snacks\": {\n",
    "        \"Cookie\": .99,\n",
    "        \"Banana\": .69,\n",
    "        \"Apple\": .49,\n",
    "        \"Granola bar\": 1.99\n",
    "    },\n",
    "    \"Meals\": {\n",
    "        \"Burrito\": 4.49,\n",
    "        \"Teriyaki Chicken\": 9.99,\n",
    "        \"Sushi\": 7.49,\n",
    "        \"Pad Thai\": 6.99,\n",
    "        \"Pizza\": {\n",
    "            \"Cheese\": 8.99,\n",
    "            \"Pepperoni\": 10.99,\n",
    "            \"Vegetarian\": 9.99\n",
    "        },\n",
    "        \"Burger\": {\n",
    "            \"Chicken\": 7.49,\n",
    "            \"Beef\": 8.49\n",
    "        }\n",
    "    },\n",
    "    \"Drinks\": {\n",
    "        \"Soda\": {\n",
    "            \"Small\": 1.99,\n",
    "            \"Medium\": 2.49,\n",
    "            \"Large\": 2.99\n",
    "        },\n",
    "        \"Tea\": {\n",
    "            \"Green\": 2.49,\n",
    "            \"Thai iced\": 3.99,\n",
    "            \"Irish breakfast\": 2.49\n",
    "        },\n",
    "        \"Coffee\": {\n",
    "            \"Espresso\": 2.99,\n",
    "            \"Flat white\": 2.99,\n",
    "            \"Iced\": 3.49\n",
    "        }\n",
    "    },\n",
    "    \"Dessert\": {\n",
    "        \"Chocolate lava cake\": 10.99,\n",
    "        \"Cheesecake\": {\n",
    "            \"New York\": 4.99,\n",
    "            \"Strawberry\": 6.49\n",
    "        },\n",
    "        \"Australian Pavlova\": 9.99,\n",
    "        \"Rice pudding\": 4.99,\n",
    "        \"Fried banana\": 4.49\n",
    "    }\n",
    "}\n",
    "\n",
    "# 1. Set up order list. Order list will store a list of dictionaries for\n",
    "# menu item name, item price, and quantity ordered\n",
    "order_list = []\n",
    "\n",
    "# Launch the store and present a greeting to the customer\n",
    "print(\"Welcome to the variety food truck.\")\n",
    "\n",
    "# Customers may want to order multiple items, so let's create a continuous\n",
    "# loop\n",
    "place_order = True\n",
    "while place_order:\n",
    "    # Ask the customer from which menu category they want to order\n",
    "    print(\"~\" * 50)\n",
    "    print(\"From which menu would you like to order? \")\n",
    "\n",
    "    # Create a variable for the menu item number\n",
    "    i = 1\n",
    "    # Create a dictionary to store the menu for later retrieval\n",
    "    main_menu = {}\n",
    "\n",
    "    # Print the options to choose from menu headings (all the first level\n",
    "    # dictionary items in menu).\n",
    "    for key in menu.keys():\n",
    "        print(f\"{i}: {key}\")\n",
    "        # Store the menu category associated with its menu item number\n",
    "        main_menu[i] = key\n",
    "        # Add 1 to the menu item number\n",
    "        i += 1\n",
    "    print(\"~\" * 50)\n",
    "    # Get the customer's input\n",
    "    menu_category = input(\"Type menu number: \")\n",
    "\n",
    "    # Check if the customer's input is a number\n",
    "    if menu_category.isdigit():\n",
    "        # Check if the customer's input is a valid option\n",
    "        if int(menu_category) in main_menu.keys():\n",
    "            # Save the menu category name to a variable\n",
    "            menu_category_name = main_menu[int(menu_category)]\n",
    "            # Print out the menu category name they selected\n",
    "\n",
    "            print(f\"\\nYou selected {menu_category_name}\")\n",
    "            print(\"*\" * 50)\n",
    "            # Print out the menu options from the menu_category_name\n",
    "            print(f\"\\nWhat {menu_category_name} item would you like to order?\\n\")\n",
    "            i = 1\n",
    "            menu_items = {}\n",
    "            print(\"Item # | Item name                | Price\")\n",
    "            print(\"-------|--------------------------|-------\")\n",
    "            for key, value in menu[menu_category_name].items():\n",
    "                # Check if the menu item is a dictionary to handle differently\n",
    "                if type(value) is dict:\n",
    "                    for key2, value2 in value.items():\n",
    "                        num_item_spaces = 24 - len(key + key2) - 3\n",
    "                        item_spaces = \" \" * num_item_spaces\n",
    "                        print(f\"{i}      | {key} - {key2}{item_spaces} | ${value2}\")\n",
    "                        menu_items[i] = {\n",
    "                            \"Item name\": key + \" - \" + key2,\n",
    "                            \"Price\": value2\n",
    "                        }\n",
    "                        i += 1\n",
    "                else:\n",
    "                    num_item_spaces = 24 - len(key)\n",
    "                    item_spaces = \" \" * num_item_spaces\n",
    "                    print(f\"{i}      | {key}{item_spaces} | ${value}\")\n",
    "                    menu_items[i] = {\n",
    "                        \"Item name\": key,\n",
    "                        \"Price\": value\n",
    "                    }\n",
    "                    i += 1\n",
    "            print(\"-------|--------------------------|-------\")\n",
    "            # 2. Ask customer to input menu item number\n",
    "            #print(f\"MenuItems Dictionary: {menu_items}\")\n",
    "            sel_menu_item = input(f\"Type item number: \")\n",
    "\n",
    "            # 3. Check if the customer typed a number\n",
    "            if sel_menu_item.isdigit():\n",
    "                # Convert the menu selection to an integer\n",
    "                item_num = int(sel_menu_item)\n",
    "\n",
    "                # 4. Check if the menu selection is in the menu items\n",
    "                if item_num in menu_items.keys():\n",
    "                    # Store the item name as a variable\n",
    "                    s_item_name = menu_items[item_num]['Item name']\n",
    "\n",
    "                    # Ask the customer for the quantity of the menu item\n",
    "                    sel_item_qty = input(f\"\\nYou selected {s_item_name}, type item quantity: \")\n",
    "\n",
    "                    # Check if the quantity is a number, default to 1 if not\n",
    "                    if sel_item_qty.isdigit(): \n",
    "                        s_item_qty = int(sel_item_qty)\n",
    "                    else:\n",
    "                        s_item_qty = 1\n",
    "\n",
    "                    # Add the item name, price, and quantity to the order list\n",
    "                    order_list.append({'item_name': s_item_name, 'item_qty': s_item_qty, 'item_price': menu_items[item_num]['Price']})\n",
    "                else:\n",
    "                    # Tell the customer that their input isn't valid\n",
    "                    print(f\"ERROR: Your input is not in menu.\")\n",
    "            else:\n",
    "                # Tell the customer they didn't select a menu option\n",
    "                print(f\"ERROR: You typed invalid character, type item number.\")\n",
    "\n",
    "        else:\n",
    "            # Tell the customer they didn't select a menu option\n",
    "            print(f\"ERROR: {menu_category} was not a menu option.\")\n",
    "    else:\n",
    "        # Tell the customer they didn't select a number\n",
    "        print(\"ERROR: You didn't select a number.\")\n",
    "\n",
    "    order_complete = False\n",
    "    while True:\n",
    "        # Ask the customer if they would like to order anything else\n",
    "        keep_ordering = input(\"\\n Would you like to keep ordering? (Y)es or (N)o \")\n",
    "\n",
    "        # 5. Check the customer's input\n",
    "        match keep_ordering.lower():\n",
    "                # Keep ordering, break this loop and display main menu\n",
    "                # to continue\n",
    "                case 'y':\n",
    "                    break\n",
    "                case 'n':\n",
    "                    # Complete the order                    \n",
    "                    # Since the customer decided to stop ordering, thank them for\n",
    "                    # their order\n",
    "                    # Exit the keep ordering question loop\n",
    "                    order_complete = True\n",
    "                    print(f\"****Thank you for your order.****\")\n",
    "                    break\n",
    "                case _:\n",
    "                    # Tell the customer to try again\n",
    "                    print(f\"ERROR: Invalid selection. Type Y or N to continue.\")\n",
    "                    \n",
    "    if order_complete:\n",
    "        place_order = False"
   ]
  },
  {
   "cell_type": "code",
   "execution_count": 30,
   "metadata": {
    "tags": []
   },
   "outputs": [
    {
     "name": "stdout",
     "output_type": "stream",
     "text": [
      "\n",
      " This is what we are preparing for you.\n",
      "\n",
      "        Item name         | Price  | Quantity |  Total   \n",
      "--------------------------|--------|----------|---------\n",
      " Apple                    | 0.49   |        4 |     1.96\n",
      " Pad Thai                 | 6.99   |        2 |    13.98\n",
      " Pizza - Vegetarian       | 9.99   |        1 |     9.99\n",
      "--------------------------------------------------------\n"
     ]
    }
   ],
   "source": [
    "if place_order == False:\n",
    "    # Print out the customer's order\n",
    "    print(\"\\n This is what we are preparing for you.\\n\")\n",
    "\n",
    "    # Uncomment the following line to check the structure of the order\n",
    "    #print(order_list)\n",
    "\n",
    "    print(f\"{'Item name':^26}|{'Price':^8}|{'Quantity':^10}|{'Total':^10}\")\n",
    "    print(\"--------------------------|--------|----------|---------\")\n",
    "\n",
    "    # 6. Loop through the items in the customer's order\n",
    "    for eachOrderItem in order_list:\n",
    "        # since we know already all the items in list are of type dict\n",
    "        # we dont have to check for type in this case\n",
    "        # 7. Store the dictionary items as variables\n",
    "        oItemName = eachOrderItem['item_name']\n",
    "        oItemPrice = eachOrderItem['item_price']\n",
    "        oItemQty = eachOrderItem['item_qty']\n",
    "        oItemTotal = (eachOrderItem['item_price'] * eachOrderItem['item_qty'])\n",
    "        \n",
    "        # 8. Calculate the number of spaces for formatted printing\n",
    "        # 9. Create space strings\n",
    "        #oname_space = \" \" * (24 - len(oItemName))    \n",
    "        #oqty_space = \" \" * (8 - len(str(oItemQty)))\n",
    "                            \n",
    "        # 10. Print the item name, price, and quantity\n",
    "        # using f string alignment instead of space\n",
    "        print(f\" {oItemName:<25}| {oItemPrice}   | {oItemQty:>8} | {oItemTotal:>8.2f}\")\n",
    "\n",
    "    print(\"--------------------------------------------------------\")"
   ]
  },
  {
   "cell_type": "code",
   "execution_count": 11,
   "metadata": {
    "tags": []
   },
   "outputs": [
    {
     "name": "stdout",
     "output_type": "stream",
     "text": [
      "                                            \u001b[1mTotal: 25.93\u001b[0m\n",
      "--------------------------------------------------------\n"
     ]
    }
   ],
   "source": [
    "# 11. Calculate the cost of the order using list comprehension\n",
    "# Multiply the price by quantity for each item in the order list, then sum()\n",
    "# and print the prices.\n",
    "\n",
    "order_total = sum([ (eachOrder['item_price'] * eachOrder['item_qty']) for eachOrder in order_list ])\n",
    "\n",
    "sTotal = \" \" * (68 - len(\"Total: {order_total:.2f}\"))\n",
    "print(f\"{sTotal}\\033[1mTotal: {order_total:.2f}\\033[0m\")\n",
    "print(\"--------------------------------------------------------\")"
   ]
  },
  {
   "cell_type": "code",
   "execution_count": null,
   "metadata": {},
   "outputs": [],
   "source": [
    "\n"
   ]
  }
 ],
 "metadata": {
  "anaconda-cloud": {},
  "kernelspec": {
   "display_name": "Python 3 (ipykernel)",
   "language": "python",
   "name": "python3"
  },
  "language_info": {
   "codemirror_mode": {
    "name": "ipython",
    "version": 3
   },
   "file_extension": ".py",
   "mimetype": "text/x-python",
   "name": "python",
   "nbconvert_exporter": "python",
   "pygments_lexer": "ipython3",
   "version": "3.11.5"
  }
 },
 "nbformat": 4,
 "nbformat_minor": 4
}
